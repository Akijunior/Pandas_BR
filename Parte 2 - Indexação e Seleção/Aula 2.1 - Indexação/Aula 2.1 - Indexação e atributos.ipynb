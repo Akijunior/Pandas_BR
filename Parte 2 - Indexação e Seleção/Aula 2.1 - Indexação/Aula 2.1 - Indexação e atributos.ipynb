{
 "metadata": {
  "language_info": {
   "codemirror_mode": {
    "name": "ipython",
    "version": 3
   },
   "file_extension": ".py",
   "mimetype": "text/x-python",
   "name": "python",
   "nbconvert_exporter": "python",
   "pygments_lexer": "ipython3",
   "version": "3.8.3-final"
  },
  "orig_nbformat": 2,
  "kernelspec": {
   "name": "python_defaultSpec_1597775133602",
   "display_name": "Python 3.8.3 64-bit ('base': conda)"
  }
 },
 "nbformat": 4,
 "nbformat_minor": 2,
 "cells": [
  {
   "cell_type": "code",
   "execution_count": 12,
   "metadata": {},
   "outputs": [],
   "source": [
    "# Importando as bibliotecas\n",
    "import numpy as np\n",
    "import pandas as pd"
   ]
  },
  {
   "cell_type": "code",
   "execution_count": 17,
   "metadata": {},
   "outputs": [],
   "source": [
    "# Indexação de linhas (números, letras e datas)\n",
    "# [5,8)\n",
    "# pd.DataFrame(np.random.randn(3, 3), index = range(5, 8), columns=[*\"ABC\"])\n",
    "\n",
    "datas = pd.date_range('08/01/2020', periods = 3)\n",
    "\n",
    "d = pd.DataFrame(np.random.randn(3, 3), index = datas, columns=[*\"ABC\"])\n"
   ]
  },
  {
   "cell_type": "code",
   "execution_count": 38,
   "metadata": {},
   "outputs": [],
   "source": [
    "#d.index = [1, 2, 5]\n",
    "d.index = [\"Churros\", \"Banana\", \"Jailson\"]"
   ]
  },
  {
   "cell_type": "code",
   "execution_count": 39,
   "metadata": {},
   "outputs": [
    {
     "output_type": "execute_result",
     "data": {
      "text/plain": "                A         B         C\nChurros -0.786925  0.529668 -1.056290\nBanana   1.261394  1.658804 -0.137050\nJailson -0.601435  0.446043 -1.206714",
      "text/html": "<div>\n<style scoped>\n    .dataframe tbody tr th:only-of-type {\n        vertical-align: middle;\n    }\n\n    .dataframe tbody tr th {\n        vertical-align: top;\n    }\n\n    .dataframe thead th {\n        text-align: right;\n    }\n</style>\n<table border=\"1\" class=\"dataframe\">\n  <thead>\n    <tr style=\"text-align: right;\">\n      <th></th>\n      <th>A</th>\n      <th>B</th>\n      <th>C</th>\n    </tr>\n  </thead>\n  <tbody>\n    <tr>\n      <th>Churros</th>\n      <td>-0.786925</td>\n      <td>0.529668</td>\n      <td>-1.056290</td>\n    </tr>\n    <tr>\n      <th>Banana</th>\n      <td>1.261394</td>\n      <td>1.658804</td>\n      <td>-0.137050</td>\n    </tr>\n    <tr>\n      <th>Jailson</th>\n      <td>-0.601435</td>\n      <td>0.446043</td>\n      <td>-1.206714</td>\n    </tr>\n  </tbody>\n</table>\n</div>"
     },
     "metadata": {},
     "execution_count": 39
    }
   ],
   "source": [
    "d"
   ]
  },
  {
   "cell_type": "code",
   "execution_count": 42,
   "metadata": {},
   "outputs": [
    {
     "output_type": "execute_result",
     "data": {
      "text/plain": "Churros   -0.786925\nBanana     1.261394\nJailson   -0.601435\nName: A, dtype: float64"
     },
     "metadata": {},
     "execution_count": 42
    }
   ],
   "source": [
    "# Colunas como atributos\n",
    "#type(d[[\"A\"]])\n",
    "d.A"
   ]
  }
 ]
}